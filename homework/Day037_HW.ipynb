{
 "cells": [
  {
   "cell_type": "markdown",
   "metadata": {},
   "source": [
    "# 自動化更新機制\n",
    "\n",
    "\n",
    "* 如何定期執行爬蟲程式\n",
    "* 更新時需要注意的事情是什麼？\n"
   ]
  },
  {
   "cell_type": "markdown",
   "metadata": {},
   "source": [
    "## 作業目標\n",
    "\n",
    "* 列舉一個是需要用自動化更新的機制來達成的爬蟲應用。"
   ]
  },
  {
   "cell_type": "code",
   "execution_count": 1,
   "metadata": {},
   "outputs": [
    {
     "data": {
      "text/plain": [
       "'\\nYour Input \\n'"
      ]
     },
     "execution_count": 1,
     "metadata": {},
     "output_type": "execute_result"
    }
   ],
   "source": [
    "import time\n",
    "from threading import Timer\n",
    "\n",
    "def printHello(count):\n",
    "    count += 1\n",
    "    if count >= 5:\n",
    "        return\n",
    "    print(time.strftime('%Y-%m-%d %X', time.localtime()))\n",
    "    t = Timer(2, printHello, (count,)) \n",
    "    t.start() \n",
    "\n",
    "count = 0\n",
    "printHello(count)\n",
    "browser = webdriver.Chrome()\n",
    "browser.get(job_104_url)  # 打開瀏覽器並連到網頁\n",
    "time.sleep(2)  # delay一段時間等待網頁更新完成\n",
    "\n",
    "while True:\n",
    "    time.sleep(3)  # delay一段時間等待網頁更新完成\n",
    "    html = browser.page_source\n",
    "    soup = BeautifulSoup(html, 'lxml')\n",
    "    company_list = soup.find(\"div\", attrs={'id':\"company-result\"}).find_all(\"article\", attrs={'class':\"items\"})\n",
    "    \n",
    "    #\n",
    "    # 擷取公司名稱及簡介內容\n",
    "    #\n",
    "    for company in company_list:\n",
    "        # 因為內容太多，我們把爬取到的結果，寫入\"company_list.txt\"檔案中，稍後再來檢視\n",
    "        company_name = company.a.string\n",
    "        f = open(\"company_list.txt\", \"a+\", encoding='utf-8')\n",
    "        f.write( company_name + \"\\n\" )  # 寫入公司名稱\n",
    "        \n",
    "        company_desc = company.find(\"p\", attrs={'class':\"desc\"})\n",
    "        f.write( company_desc.string + \"\\n\" )  # 寫入公司簡介\n",
    "        f.write( \"--------------------------------------------------------------------------------\" + \"\\n\" )\n",
    "        f.close()"
   ]
  },
  {
   "cell_type": "code",
   "execution_count": null,
   "metadata": {},
   "outputs": [],
   "source": []
  }
 ],
 "metadata": {
  "colab": {
   "name": "homework.ipynb",
   "provenance": []
  },
  "kernelspec": {
   "display_name": "Python 3",
   "language": "python",
   "name": "python3"
  },
  "language_info": {
   "codemirror_mode": {
    "name": "ipython",
    "version": 3
   },
   "file_extension": ".py",
   "mimetype": "text/x-python",
   "name": "python",
   "nbconvert_exporter": "python",
   "pygments_lexer": "ipython3",
   "version": "3.6.5"
  }
 },
 "nbformat": 4,
 "nbformat_minor": 1
}