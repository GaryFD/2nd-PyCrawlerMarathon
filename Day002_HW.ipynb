{
 "nbformat": 4,
 "nbformat_minor": 2,
 "metadata": {
  "language_info": {
   "name": "python",
   "codemirror_mode": {
    "name": "ipython",
    "version": 3
   }
  },
  "orig_nbformat": 2,
  "file_extension": ".py",
  "mimetype": "text/x-python",
  "name": "python",
  "npconvert_exporter": "python",
  "pygments_lexer": "ipython3",
  "version": 3
 },
 "cells": [
  {
   "cell_type": "code",
   "execution_count": null,
   "metadata": {},
   "outputs": [],
   "source": [
    "import urllib.request\n",
    "\n",
    "res = \"http://opendata.hccg.gov.tw/dataset/432257df-491f-4875-8b56-dd814aee5d7b/resource/de014c8b-9b75-4152-9fc6-f0d499cefbe4/download/20150305140446074.csv\"\n",
    "urllib.request.urlretrieve(res, './data/example.csv')"
   ]
  },
  {
   "cell_type": "code",
   "execution_count": null,
   "metadata": {},
   "outputs": [],
   "source": [
    "# 1. 取出班次一的每一個時間\n",
    "with open('./data/example.csv', 'r') as file01:\n",
    "    reader = csv.reader(file01)\n",
    "    next(reader)\n",
    "    for x in reader:\n",
    "        time = x[6]\n",
    "        print(time)"
   ]
  },
  {
   "cell_type": "code",
   "execution_count": null,
   "metadata": {},
   "outputs": [],
   "source": [
    "# 2. 將班次一的每一個時間用一種資料型態保存\n",
    "list time[100000]\n",
    "int a=0\n",
    "with open('./data/example.csv', 'r') as file01:\n",
    "    reader = csv.reader(file01)\n",
    "    next(reader)\n",
    "    for x in reader:\n",
    "        time[a] = x[6]\n",
    "        a += 1"
   ]
  },
  {
   "cell_type": "code",
   "execution_count": null,
   "metadata": {},
   "outputs": [],
   "source": [
    "# 3. 將班次一到五與其所有時間用一種資料型態個別保存\n",
    "\n",
    "list time1-5[100000]\n",
    "int y=0\n",
    "with open('./data/example.csv', 'r') as file01:\n",
    "    reader = csv.reader(file01)\n",
    "    next(reader)\n",
    "    for p in reader:\n",
    "        for v in range(6,17):\n",
    "            time[y] = p[v]\n",
    "            y += 1\n",
    "        "
   ]
  }
 ]
}